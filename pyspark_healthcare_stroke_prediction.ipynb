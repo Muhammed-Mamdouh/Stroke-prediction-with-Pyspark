{
 "cells": [
  {
   "cell_type": "markdown",
   "metadata": {
    "id": "e31bc851"
   },
   "source": [
    "### Create a spark session and import the required libraries"
   ]
  },
  {
   "cell_type": "code",
   "execution_count": 1,
   "metadata": {
    "id": "8VgEePd0nv4p"
   },
   "outputs": [],
   "source": [
    "!apt-get install openjdk-8-jdk-headless -qq > /dev/null\n",
    "!wget -q https://archive.apache.org/dist/spark/spark-3.0.1/spark-3.0.1-bin-hadoop3.2.tgz\n",
    "!tar xf spark-3.0.1-bin-hadoop3.2.tgz\n",
    "!pip install -q findspark\n",
    "import os\n",
    "os.environ[\"JAVA_HOME\"] = \"/usr/lib/jvm/java-8-openjdk-amd64\"\n",
    "os.environ[\"SPARK_HOME\"] = \"/content/spark-3.0.1-bin-hadoop3.2\"\n",
    "import findspark\n",
    "findspark.init()\n",
    "import pyspark"
   ]
  },
  {
   "cell_type": "code",
   "execution_count": 2,
   "metadata": {
    "id": "ab3ba311"
   },
   "outputs": [],
   "source": [
    "from pyspark.sql import SparkSession\n",
    "spark=SparkSession.builder.appName('Final_Exam').getOrCreate()"
   ]
  },
  {
   "cell_type": "markdown",
   "metadata": {
    "id": "843b8468"
   },
   "source": [
    "### Create a data schema programatically"
   ]
  },
  {
   "cell_type": "code",
   "execution_count": 33,
   "metadata": {
    "id": "8616fe16"
   },
   "outputs": [],
   "source": [
    "from pyspark.sql.types import *\n",
    "schema = StructType([\n",
    "  StructField(\"id\", IntegerType(), True),\n",
    "  StructField(\"gender\", StringType(), True),\n",
    "  StructField(\"age\", DoubleType(), True),\n",
    "  StructField(\"hypertension\", IntegerType(), True),\n",
    "  StructField(\"heart_disease\", IntegerType(), True),\n",
    "  StructField(\"ever_married\", StringType(), True),\n",
    "  StructField(\"work_type\", StringType(), True),\n",
    "  StructField(\"Residence_type\", StringType(), True),\n",
    "  StructField(\"avg_glucose_level\", DoubleType(), True),\n",
    "  StructField(\"bmi\", DoubleType(), True),\n",
    "  StructField(\"smoking_status\", StringType(), True),\n",
    "  StructField(\"stroke\", IntegerType(), True)])\n"
   ]
  },
  {
   "cell_type": "markdown",
   "metadata": {
    "id": "2d00718f"
   },
   "source": [
    "### Read the data using the standard DataReader (Key,Value) pairs format\n",
    "- Provide the schema and any other required options."
   ]
  },
  {
   "cell_type": "code",
   "execution_count": 102,
   "metadata": {
    "id": "61fcc4cd"
   },
   "outputs": [],
   "source": [
    "df=spark.read.csv(\"/content/healthcare-dataset-stroke-data.csv\",schema=schema,header=True)"
   ]
  },
  {
   "cell_type": "markdown",
   "metadata": {
    "id": "974bc193"
   },
   "source": [
    "### Explore the data \n",
    "#### You have to do the following:\n",
    "- Print the Schema.\n",
    "- Show the first 10 rows from the data.\n",
    "- Explore null values and show how many null values in each column.\n",
    "- Plot a count plot for the target label and <b>notice the graph</b>.\n",
    "- Perform any additional EDA you find useful."
   ]
  },
  {
   "cell_type": "code",
   "execution_count": 103,
   "metadata": {
    "colab": {
     "base_uri": "https://localhost:8080/"
    },
    "id": "353b6f34",
    "outputId": "e14b0c9c-d4ea-4fab-96f4-79ace376440f"
   },
   "outputs": [
    {
     "name": "stdout",
     "output_type": "stream",
     "text": [
      "root\n",
      " |-- id: integer (nullable = true)\n",
      " |-- gender: string (nullable = true)\n",
      " |-- age: double (nullable = true)\n",
      " |-- hypertension: integer (nullable = true)\n",
      " |-- heart_disease: integer (nullable = true)\n",
      " |-- ever_married: string (nullable = true)\n",
      " |-- work_type: string (nullable = true)\n",
      " |-- Residence_type: string (nullable = true)\n",
      " |-- avg_glucose_level: double (nullable = true)\n",
      " |-- bmi: double (nullable = true)\n",
      " |-- smoking_status: string (nullable = true)\n",
      " |-- stroke: integer (nullable = true)\n",
      "\n"
     ]
    }
   ],
   "source": [
    "df.printSchema()"
   ]
  },
  {
   "cell_type": "code",
   "execution_count": 104,
   "metadata": {
    "colab": {
     "base_uri": "https://localhost:8080/"
    },
    "id": "uvZfhNx5sUo4",
    "outputId": "72434c36-3f91-4524-bbcb-aab79f1b479c"
   },
   "outputs": [
    {
     "name": "stdout",
     "output_type": "stream",
     "text": [
      "+-----+------+----+------------+-------------+------------+-------------+--------------+-----------------+----+---------------+------+\n",
      "|   id|gender| age|hypertension|heart_disease|ever_married|    work_type|Residence_type|avg_glucose_level| bmi| smoking_status|stroke|\n",
      "+-----+------+----+------------+-------------+------------+-------------+--------------+-----------------+----+---------------+------+\n",
      "| 9046|  Male|67.0|           0|            1|         Yes|      Private|         Urban|           228.69|36.6|formerly smoked|     1|\n",
      "|51676|Female|61.0|           0|            0|         Yes|Self-employed|         Rural|           202.21|null|   never smoked|     1|\n",
      "|31112|  Male|80.0|           0|            1|         Yes|      Private|         Rural|           105.92|32.5|   never smoked|     1|\n",
      "|60182|Female|49.0|           0|            0|         Yes|      Private|         Urban|           171.23|34.4|         smokes|     1|\n",
      "| 1665|Female|79.0|           1|            0|         Yes|Self-employed|         Rural|           174.12|24.0|   never smoked|     1|\n",
      "|56669|  Male|81.0|           0|            0|         Yes|      Private|         Urban|           186.21|29.0|formerly smoked|     1|\n",
      "|53882|  Male|74.0|           1|            1|         Yes|      Private|         Rural|            70.09|27.4|   never smoked|     1|\n",
      "|10434|Female|69.0|           0|            0|          No|      Private|         Urban|            94.39|22.8|   never smoked|     1|\n",
      "|27419|Female|59.0|           0|            0|         Yes|      Private|         Rural|            76.15|null|        Unknown|     1|\n",
      "|60491|Female|78.0|           0|            0|         Yes|      Private|         Urban|            58.57|24.2|        Unknown|     1|\n",
      "+-----+------+----+------------+-------------+------------+-------------+--------------+-----------------+----+---------------+------+\n",
      "only showing top 10 rows\n",
      "\n"
     ]
    }
   ],
   "source": [
    "df.show(10)"
   ]
  },
  {
   "cell_type": "code",
   "execution_count": 105,
   "metadata": {
    "colab": {
     "base_uri": "https://localhost:8080/"
    },
    "id": "6La_f0bjsyc0",
    "outputId": "05fc46d6-271e-4162-9e2f-33c6ac969a31"
   },
   "outputs": [
    {
     "name": "stdout",
     "output_type": "stream",
     "text": [
      "+---+------+---+------------+-------------+------------+---------+--------------+-----------------+---+--------------+------+\n",
      "| id|gender|age|hypertension|heart_disease|ever_married|work_type|Residence_type|avg_glucose_level|bmi|smoking_status|stroke|\n",
      "+---+------+---+------------+-------------+------------+---------+--------------+-----------------+---+--------------+------+\n",
      "|  0|     0|  0|           0|            0|           0|        0|             0|                0|201|             0|     0|\n",
      "+---+------+---+------------+-------------+------------+---------+--------------+-----------------+---+--------------+------+\n",
      "\n"
     ]
    }
   ],
   "source": [
    "from pyspark.sql.functions import isnan, when, count, col\n",
    "\n",
    "df.select([count(when(isnan(c) | col(c).isNull(), c)).alias(c) for c in df.columns]).show()"
   ]
  },
  {
   "cell_type": "code",
   "execution_count": 106,
   "metadata": {
    "colab": {
     "base_uri": "https://localhost:8080/"
    },
    "id": "LwPOSHoYtv_a",
    "outputId": "5a617a17-8bc7-469a-eddd-f412e6fb08b7"
   },
   "outputs": [
    {
     "name": "stdout",
     "output_type": "stream",
     "text": [
      "+------+-----+\n",
      "|stroke|count|\n",
      "+------+-----+\n",
      "|     1|  249|\n",
      "|     0| 4861|\n",
      "+------+-----+\n",
      "\n"
     ]
    }
   ],
   "source": [
    "df.select('stroke').groupby('stroke').count().show()"
   ]
  },
  {
   "cell_type": "code",
   "execution_count": 107,
   "metadata": {
    "colab": {
     "base_uri": "https://localhost:8080/",
     "height": 350
    },
    "id": "8Tyjf_qJsx92",
    "outputId": "d3fcef4e-b7bd-43ed-dfda-0ee9e5be6df5"
   },
   "outputs": [
    {
     "name": "stderr",
     "output_type": "stream",
     "text": [
      "/usr/local/lib/python3.7/dist-packages/seaborn/_decorators.py:43: FutureWarning: Pass the following variable as a keyword arg: x. From version 0.12, the only valid positional argument will be `data`, and passing other arguments without an explicit keyword will result in an error or misinterpretation.\n",
      "  FutureWarning\n"
     ]
    },
    {
     "data": {
      "text/plain": [
       "<matplotlib.axes._subplots.AxesSubplot at 0x7f48855cc6d0>"
      ]
     },
     "execution_count": 107,
     "metadata": {},
     "output_type": "execute_result"
    },
    {
     "data": {
      "image/png": "[encoded data removed]",
      "text/plain": [
       "<Figure size 432x288 with 1 Axes>"
      ]
     },
     "metadata": {
      "needs_background": "light"
     },
     "output_type": "display_data"
    }
   ],
   "source": [
    "import seaborn as sns\n",
    "\n",
    "sns.countplot(df.select('stroke').toPandas()['stroke'])\n"
   ]
  },
  {
   "cell_type": "code",
   "execution_count": 108,
   "metadata": {
    "id": "nGJaS2ETuxm-"
   },
   "outputs": [],
   "source": [
    "# Data is Highly Imbalanced"
   ]
  },
  {
   "cell_type": "markdown",
   "metadata": {
    "id": "5nvmjcVGvNUE"
   },
   "source": [
    "### Data is Highly Imbalanced"
   ]
  },
  {
   "cell_type": "code",
   "execution_count": 109,
   "metadata": {
    "colab": {
     "base_uri": "https://localhost:8080/",
     "height": 350
    },
    "id": "6fb198f0",
    "outputId": "24077804-392f-4190-8dc3-e8dbcf6093ec"
   },
   "outputs": [
    {
     "name": "stderr",
     "output_type": "stream",
     "text": [
      "/usr/local/lib/python3.7/dist-packages/seaborn/distributions.py:2619: FutureWarning: `distplot` is a deprecated function and will be removed in a future version. Please adapt your code to use either `displot` (a figure-level function with similar flexibility) or `histplot` (an axes-level function for histograms).\n",
      "  warnings.warn(msg, FutureWarning)\n"
     ]
    },
    {
     "data": {
      "text/plain": [
       "<matplotlib.axes._subplots.AxesSubplot at 0x7f48856c7090>"
      ]
     },
     "execution_count": 109,
     "metadata": {},
     "output_type": "execute_result"
    },
    {
     "data": {
      "image/png": "[encoded data removed]",
      "text/plain": [
       "<Figure size 432x288 with 1 Axes>"
      ]
     },
     "metadata": {
      "needs_background": "light"
     },
     "output_type": "display_data"
    }
   ],
   "source": [
    "sns.distplot(df.select('bmi').toPandas()['bmi'],bins=50)\n"
   ]
  },
  {
   "cell_type": "code",
   "execution_count": null,
   "metadata": {
    "id": "mLSmCsCLJq2Y"
   },
   "outputs": [],
   "source": [
    "#bmi columns has outliers"
   ]
  },
  {
   "cell_type": "markdown",
   "metadata": {
    "id": "59b770cb"
   },
   "source": [
    "### Get the summary statistics of the age column\n",
    "- You will find the minimum age is about <b>0.08</b>.\n",
    "- Remove rows for the age below <b>2 years old</b>."
   ]
  },
  {
   "cell_type": "code",
   "execution_count": 110,
   "metadata": {
    "colab": {
     "base_uri": "https://localhost:8080/"
    },
    "id": "ed40fb11",
    "outputId": "a63e5b08-76d9-435b-fadf-703196f40038",
    "scrolled": false
   },
   "outputs": [
    {
     "name": "stdout",
     "output_type": "stream",
     "text": [
      "+-------+------------------+\n",
      "|summary|               age|\n",
      "+-------+------------------+\n",
      "|  count|              5110|\n",
      "|   mean|43.226614481409015|\n",
      "| stddev| 22.61264672311348|\n",
      "|    min|              0.08|\n",
      "|    max|              82.0|\n",
      "+-------+------------------+\n",
      "\n"
     ]
    }
   ],
   "source": [
    "df.select('age').describe().show()"
   ]
  },
  {
   "cell_type": "code",
   "execution_count": 111,
   "metadata": {
    "id": "cc99c0be"
   },
   "outputs": [],
   "source": [
    "df=df.filter('age >=2')"
   ]
  },
  {
   "cell_type": "markdown",
   "metadata": {
    "id": "bf8c9498"
   },
   "source": [
    "### Working with gender & smoking_status columns:\n",
    "- Select and show the gender & smoking_status columns\n",
    "- Get the distinct values for each column."
   ]
  },
  {
   "cell_type": "code",
   "execution_count": 112,
   "metadata": {
    "colab": {
     "base_uri": "https://localhost:8080/"
    },
    "id": "925a5ecd",
    "outputId": "c6c7cc46-3135-431e-de88-11b1bc9aca94"
   },
   "outputs": [
    {
     "name": "stdout",
     "output_type": "stream",
     "text": [
      "+------+---------------+\n",
      "|gender| smoking_status|\n",
      "+------+---------------+\n",
      "|  Male|formerly smoked|\n",
      "|Female|   never smoked|\n",
      "|  Male|   never smoked|\n",
      "|Female|         smokes|\n",
      "|Female|   never smoked|\n",
      "|  Male|formerly smoked|\n",
      "|  Male|   never smoked|\n",
      "|Female|   never smoked|\n",
      "|Female|        Unknown|\n",
      "|Female|        Unknown|\n",
      "|Female|   never smoked|\n",
      "|Female|         smokes|\n",
      "|Female|         smokes|\n",
      "|  Male|        Unknown|\n",
      "|Female|   never smoked|\n",
      "|Female|   never smoked|\n",
      "|  Male|         smokes|\n",
      "|  Male|         smokes|\n",
      "|Female|   never smoked|\n",
      "|  Male|        Unknown|\n",
      "+------+---------------+\n",
      "only showing top 20 rows\n",
      "\n"
     ]
    }
   ],
   "source": [
    "df.select('gender','smoking_status').show()"
   ]
  },
  {
   "cell_type": "code",
   "execution_count": 113,
   "metadata": {
    "colab": {
     "base_uri": "https://localhost:8080/"
    },
    "id": "9dfe35a4",
    "outputId": "6838692d-a6af-4cb8-b987-acf6bde57419"
   },
   "outputs": [
    {
     "name": "stdout",
     "output_type": "stream",
     "text": [
      "+------+\n",
      "|gender|\n",
      "+------+\n",
      "|Female|\n",
      "| Other|\n",
      "|  Male|\n",
      "+------+\n",
      "\n"
     ]
    }
   ],
   "source": [
    "df.select('gender').distinct().show()"
   ]
  },
  {
   "cell_type": "code",
   "execution_count": 114,
   "metadata": {
    "colab": {
     "base_uri": "https://localhost:8080/"
    },
    "id": "b7bf6c7e",
    "outputId": "b47f12f9-fdbc-4504-b4a9-6ae01e0d95a7"
   },
   "outputs": [
    {
     "name": "stdout",
     "output_type": "stream",
     "text": [
      "+---------------+\n",
      "| smoking_status|\n",
      "+---------------+\n",
      "|         smokes|\n",
      "|        Unknown|\n",
      "|   never smoked|\n",
      "|formerly smoked|\n",
      "+---------------+\n",
      "\n"
     ]
    }
   ],
   "source": [
    "df.select('smoking_status').distinct().show()"
   ]
  },
  {
   "cell_type": "markdown",
   "metadata": {
    "id": "850bdfe1"
   },
   "source": [
    "#### Change the string values of the columns into numerical values as follow:\n",
    "1. Gender column:\n",
    "    * Male = 1 \n",
    "    * Female = 0 \n",
    "    * Other = 0 \n",
    "2. Smoking Status column:\n",
    "  * never smoked = 0\n",
    "  * Unknown = 0.5\n",
    "  * formerly smoked = 0.75\n",
    "  * smokes = 1.0\n"
   ]
  },
  {
   "cell_type": "code",
   "execution_count": 115,
   "metadata": {
    "id": "355f2ef0"
   },
   "outputs": [],
   "source": [
    "from pyspark.sql.functions import udf\n",
    "gender_dic={'Male':1,'Female':0,'Other':0}\n",
    "smoking_dic={'never smoked':0.0,'Unknown':0.5,'formerly smoked':0.75,'smokes':1.0}"
   ]
  },
  {
   "cell_type": "code",
   "execution_count": 116,
   "metadata": {
    "id": "57y6FGV4yrcI"
   },
   "outputs": [],
   "source": [
    "replace_gender=udf(lambda x : gender_dic[x],IntegerType())\n",
    "replace_smoking=udf(lambda x : smoking_dic[x],DoubleType())\n",
    "df=df.withColumn('gender',replace_gender('gender')).withColumn('smoking_status',replace_smoking('smoking_status'))"
   ]
  },
  {
   "cell_type": "markdown",
   "metadata": {
    "id": "3da38a31"
   },
   "source": [
    "#### Show the output DataFrame\n",
    "- Select and show the gender & smoking_status columns after value changing.\n",
    "- Print schema for the new dataframe."
   ]
  },
  {
   "cell_type": "code",
   "execution_count": 117,
   "metadata": {
    "colab": {
     "base_uri": "https://localhost:8080/"
    },
    "id": "CtOAzFAAz5uJ",
    "outputId": "2fcd05db-d9b6-4a90-ed72-34e44aca7b8a"
   },
   "outputs": [
    {
     "name": "stdout",
     "output_type": "stream",
     "text": [
      "+------+--------------+\n",
      "|gender|smoking_status|\n",
      "+------+--------------+\n",
      "|     1|          0.75|\n",
      "|     0|           0.0|\n",
      "|     1|           0.0|\n",
      "|     0|           1.0|\n",
      "|     0|           0.0|\n",
      "|     1|          0.75|\n",
      "|     1|           0.0|\n",
      "|     0|           0.0|\n",
      "|     0|           0.5|\n",
      "|     0|           0.5|\n",
      "|     0|           0.0|\n",
      "|     0|           1.0|\n",
      "|     0|           1.0|\n",
      "|     1|           0.5|\n",
      "|     0|           0.0|\n",
      "|     0|           0.0|\n",
      "|     1|           1.0|\n",
      "|     1|           1.0|\n",
      "|     0|           0.0|\n",
      "|     1|           0.5|\n",
      "+------+--------------+\n",
      "only showing top 20 rows\n",
      "\n"
     ]
    }
   ],
   "source": [
    "df.select('gender','smoking_status').show()"
   ]
  },
  {
   "cell_type": "markdown",
   "metadata": {
    "id": "89ce3b77"
   },
   "source": [
    "### Deal with null value according to your data analysis."
   ]
  },
  {
   "cell_type": "code",
   "execution_count": 118,
   "metadata": {
    "id": "4d78cb87"
   },
   "outputs": [],
   "source": [
    "from pyspark.ml.feature import Imputer\n",
    "#only null values in bmi column\n",
    "#using median imputer to avoid the influence of outliers in this column (see above distribution of bmi)\n",
    "median_imputer=Imputer(strategy='median',inputCol='bmi',outputCol='bmi')\n",
    "df=median_imputer.fit(df).transform(df)"
   ]
  },
  {
   "cell_type": "code",
   "execution_count": 119,
   "metadata": {
    "colab": {
     "base_uri": "https://localhost:8080/"
    },
    "id": "CYsbFUxm2rbn",
    "outputId": "22bf3803-ae43-42d1-8216-f8cc65f62516"
   },
   "outputs": [
    {
     "name": "stdout",
     "output_type": "stream",
     "text": [
      "+---+------+---+------------+-------------+------------+---------+--------------+-----------------+---+--------------+------+\n",
      "| id|gender|age|hypertension|heart_disease|ever_married|work_type|Residence_type|avg_glucose_level|bmi|smoking_status|stroke|\n",
      "+---+------+---+------------+-------------+------------+---------+--------------+-----------------+---+--------------+------+\n",
      "|  0|     0|  0|           0|            0|           0|        0|             0|                0|  0|             0|     0|\n",
      "+---+------+---+------------+-------------+------------+---------+--------------+-----------------+---+--------------+------+\n",
      "\n"
     ]
    }
   ],
   "source": [
    "df.select([count(when(isnan(c) | col(c).isNull(), c)).alias(c) for c in df.columns]).show()\n",
    "#no more nulls"
   ]
  },
  {
   "cell_type": "markdown",
   "metadata": {
    "id": "053c429a"
   },
   "source": [
    "### Split the data into training and test dataframes:\n",
    "- 80% training and 20% test.\n",
    "- seed = 42.\n",
    "- Save each dataframe as a parquet file"
   ]
  },
  {
   "cell_type": "code",
   "execution_count": 121,
   "metadata": {
    "id": "0236ea8b"
   },
   "outputs": [],
   "source": [
    "train_df,test_df=df.randomSplit([.8,.2],seed=42)\n"
   ]
  },
  {
   "cell_type": "markdown",
   "metadata": {
    "id": "987b4b40"
   },
   "source": [
    "### Create the model:\n",
    "- Perform feature engineering steps.\n",
    "- Create the logistic regression classifier.\n",
    "- Build the pipeline model that uses all feature engineering steps and the model.\n",
    "- Train the pipeline model using the trainig dataset."
   ]
  },
  {
   "cell_type": "code",
   "execution_count": 184,
   "metadata": {
    "colab": {
     "base_uri": "https://localhost:8080/"
    },
    "id": "3278e362",
    "outputId": "82c3cb39-63e5-4845-ce13-9087c87434dd"
   },
   "outputs": [
    {
     "name": "stdout",
     "output_type": "stream",
     "text": [
      "+---+------+----+------------+-------------+------------+-------------+--------------+-----------------+----+--------------+------+\n",
      "| id|gender| age|hypertension|heart_disease|ever_married|    work_type|Residence_type|avg_glucose_level| bmi|smoking_status|stroke|\n",
      "+---+------+----+------------+-------------+------------+-------------+--------------+-----------------+----+--------------+------+\n",
      "| 67|     0|17.0|           0|            0|          No|      Private|         Urban|            92.97|28.3|          0.75|     0|\n",
      "| 77|     0|13.0|           0|            0|          No|     children|         Rural|            85.81|18.6|           0.5|     0|\n",
      "| 91|     0|42.0|           0|            0|          No|      Private|         Urban|            98.53|18.5|           0.0|     0|\n",
      "| 99|     0|31.0|           0|            0|          No|      Private|         Urban|           108.89|52.3|           0.5|     0|\n",
      "|121|     0|38.0|           0|            0|         Yes|      Private|         Urban|            91.44|28.3|           0.5|     0|\n",
      "|132|     0|80.0|           0|            0|         Yes|     Govt_job|         Urban|            84.86|28.3|           0.5|     0|\n",
      "|163|     0|20.0|           0|            0|          No|      Private|         Rural|            94.67|28.8|           0.5|     0|\n",
      "|170|     1|43.0|           0|            0|         Yes|     Govt_job|         Rural|            80.07|28.3|           0.0|     0|\n",
      "|172|     1| 8.0|           0|            0|          No|     children|         Urban|            78.76|28.3|           0.5|     0|\n",
      "|187|     0|20.0|           0|            0|          No|      Private|         Rural|            84.07|27.6|           1.0|     0|\n",
      "|210|     1|81.0|           0|            0|         Yes|Self-employed|         Rural|            91.54|31.4|           0.0|     1|\n",
      "|224|     0|23.0|           0|            0|          No|      Private|         Urban|           110.16|28.3|           0.0|     0|\n",
      "|239|     1|59.0|           1|            1|         Yes|      Private|         Rural|           246.53|27.2|          0.75|     0|\n",
      "|242|     1| 4.0|           0|            0|          No|     children|         Urban|            98.56|17.5|           0.5|     0|\n",
      "|247|     1|31.0|           0|            0|          No|      Private|         Urban|             72.6|31.6|           0.0|     0|\n",
      "|298|     0|41.0|           0|            0|         Yes|Self-employed|         Rural|            76.66|28.3|           0.5|     0|\n",
      "|315|     1|45.0|           0|            0|         Yes|      Private|         Rural|            65.42|39.7|           0.0|     0|\n",
      "|321|     0|79.0|           0|            0|          No|Self-employed|         Rural|            71.98|36.4|           0.0|     0|\n",
      "|347|     0|16.0|           0|            0|          No|      Private|         Urban|            89.45|28.3|           0.5|     0|\n",
      "|354|     0|65.0|           0|            0|         Yes|      Private|         Urban|            72.49|28.9|           1.0|     0|\n",
      "+---+------+----+------------+-------------+------------+-------------+--------------+-----------------+----+--------------+------+\n",
      "only showing top 20 rows\n",
      "\n"
     ]
    }
   ],
   "source": [
    "train_df.show()"
   ]
  },
  {
   "cell_type": "code",
   "execution_count": 185,
   "metadata": {
    "id": "4e41b352"
   },
   "outputs": [],
   "source": [
    "from pyspark.ml.feature import StringIndexer, OneHotEncoder,VectorAssembler\n",
    "from pyspark.ml import Pipeline\n",
    "\n",
    "str_cols=[c for c,t in train_df.dtypes if t=='string']\n",
    "index_cols=[c+'_index' for c in str_cols]\n",
    "OHE_cols=[c+'_OHE' for c in str_cols]\n",
    "\n",
    "string_indexer=StringIndexer(inputCols=str_cols,outputCols=index_cols,handleInvalid='skip')\n",
    "OHE=OneHotEncoder(inputCols=index_cols,outputCols=OHE_cols)"
   ]
  },
  {
   "cell_type": "code",
   "execution_count": 186,
   "metadata": {
    "colab": {
     "base_uri": "https://localhost:8080/"
    },
    "id": "Ix_s-RqE9Mcm",
    "outputId": "a7881bad-aa3c-4c13-a0a9-45a8906a561a"
   },
   "outputs": [
    {
     "data": {
      "text/plain": [
       "['gender',\n",
       " 'age',\n",
       " 'hypertension',\n",
       " 'heart_disease',\n",
       " 'avg_glucose_level',\n",
       " 'bmi',\n",
       " 'smoking_status']"
      ]
     },
     "execution_count": 186,
     "metadata": {},
     "output_type": "execute_result"
    }
   ],
   "source": [
    "num_cols=[c for c,t in train_df.dtypes if (t!='string')&(c not in ['id','stroke'])]\n",
    "num_cols"
   ]
  },
  {
   "cell_type": "code",
   "execution_count": 187,
   "metadata": {
    "colab": {
     "base_uri": "https://localhost:8080/"
    },
    "id": "_hVIWByh9MUx",
    "outputId": "975c5f1c-921c-4be6-cd10-36849e2c82f4"
   },
   "outputs": [
    {
     "data": {
      "text/plain": [
       "['gender',\n",
       " 'age',\n",
       " 'hypertension',\n",
       " 'heart_disease',\n",
       " 'avg_glucose_level',\n",
       " 'bmi',\n",
       " 'smoking_status',\n",
       " 'ever_married_OHE',\n",
       " 'work_type_OHE',\n",
       " 'Residence_type_OHE']"
      ]
     },
     "execution_count": 187,
     "metadata": {},
     "output_type": "execute_result"
    }
   ],
   "source": [
    "vec_assem_cols=num_cols+OHE_cols\n",
    "vec_assem_cols"
   ]
  },
  {
   "cell_type": "code",
   "execution_count": 188,
   "metadata": {
    "id": "1Khci0_M9MMd"
   },
   "outputs": [],
   "source": [
    "vec_assem=VectorAssembler(inputCols=vec_assem_cols,outputCol='features')"
   ]
  },
  {
   "cell_type": "code",
   "execution_count": 189,
   "metadata": {
    "id": "LPD7wa-69L_E"
   },
   "outputs": [],
   "source": [
    "from pyspark.ml.classification import LogisticRegression\n",
    "LR=LogisticRegression(featuresCol='features',labelCol='stroke')\n"
   ]
  },
  {
   "cell_type": "code",
   "execution_count": 190,
   "metadata": {
    "id": "106453d7"
   },
   "outputs": [],
   "source": [
    "pipeline = Pipeline(stages=[string_indexer,OHE,vec_assem,LR])\n"
   ]
  },
  {
   "cell_type": "code",
   "execution_count": 191,
   "metadata": {
    "id": "LO2WuDev8Vod"
   },
   "outputs": [],
   "source": []
  },
  {
   "cell_type": "code",
   "execution_count": 191,
   "metadata": {
    "id": "TX2o8Qiv8V-x"
   },
   "outputs": [],
   "source": []
  },
  {
   "cell_type": "markdown",
   "metadata": {
    "id": "a05c2677"
   },
   "source": [
    "### Perform predictions on tests dataframe:\n",
    "- Test the model using the test dataframe\n",
    "- Select and show the feature column.\n",
    "- Print the schema of the output dataframe.\n",
    "- Select and show both prediction and label columns.\n",
    "- Explore the results for the label column stroke=1. i.e. select both columns (prediction,stroke) for stroke=1.<b>notice the result.</b> \n",
    "- Count the predicted 1 and 0 values.<b>notice the result.</b>   "
   ]
  },
  {
   "cell_type": "code",
   "execution_count": 223,
   "metadata": {
    "id": "ZmaJdlFS8Uj-"
   },
   "outputs": [],
   "source": [
    "predictions = pipeline.fit(train_df).transform(test_df)"
   ]
  },
  {
   "cell_type": "code",
   "execution_count": 224,
   "metadata": {
    "colab": {
     "base_uri": "https://localhost:8080/"
    },
    "id": "d772bef6",
    "outputId": "9d85b819-fe17-4d1d-c602-f4a3b560e04e"
   },
   "outputs": [
    {
     "name": "stdout",
     "output_type": "stream",
     "text": [
      "+----------+-----+\n",
      "|prediction|count|\n",
      "+----------+-----+\n",
      "|       0.0|  953|\n",
      "+----------+-----+\n",
      "\n"
     ]
    }
   ],
   "source": [
    "predictions.select('prediction').groupby('prediction').count().show()"
   ]
  },
  {
   "cell_type": "code",
   "execution_count": 191,
   "metadata": {
    "id": "3ea267eb"
   },
   "outputs": [],
   "source": [
    "#due to high imbalance the model only predicted the majority class"
   ]
  },
  {
   "cell_type": "code",
   "execution_count": 191,
   "metadata": {
    "id": "480d892e",
    "scrolled": false
   },
   "outputs": [],
   "source": []
  },
  {
   "cell_type": "markdown",
   "metadata": {
    "id": "daec120f"
   },
   "source": [
    "### Evaluate the model performance\n",
    "- Use <b>BinaryClassificationEvaluator</b>. This will calculate the <b>ROC</b>.\n",
    "- Set the parameters as follow:\n",
    "    - <b>rawPredictionCol='prediction'</b> and <b>labelCol='stroke'</b>"
   ]
  },
  {
   "cell_type": "code",
   "execution_count": 192,
   "metadata": {
    "id": "a7b5ad25"
   },
   "outputs": [],
   "source": [
    "from pyspark.ml.evaluation import BinaryClassificationEvaluator"
   ]
  },
  {
   "cell_type": "code",
   "execution_count": 193,
   "metadata": {
    "id": "44d3a1e6"
   },
   "outputs": [],
   "source": [
    "evaluatorROC = BinaryClassificationEvaluator(rawPredictionCol='prediction'\n",
    "                                             ,labelCol='stroke')"
   ]
  },
  {
   "cell_type": "code",
   "execution_count": 194,
   "metadata": {
    "colab": {
     "base_uri": "https://localhost:8080/"
    },
    "id": "3adbe41f",
    "outputId": "ff1a78eb-6a7e-4912-811d-c8a866cf8b56"
   },
   "outputs": [
    {
     "data": {
      "text/plain": [
       "0.5"
      ]
     },
     "execution_count": 194,
     "metadata": {},
     "output_type": "execute_result"
    }
   ],
   "source": [
    "evaluatorROC.evaluate(predictions)"
   ]
  },
  {
   "cell_type": "code",
   "execution_count": null,
   "metadata": {
    "id": "ZG4GZmGmK3kH"
   },
   "outputs": [],
   "source": [
    "#meaning the model almost has no predictive power"
   ]
  },
  {
   "cell_type": "code",
   "execution_count": 217,
   "metadata": {
    "id": "-BEKtVKQCzId"
   },
   "outputs": [],
   "source": [
    "count1=train_df.select('stroke').groupby('stroke').count().filter('stroke==1').head()[1]\n",
    "count0=train_df.select('stroke').groupby('stroke').count().filter('stroke==0').head()[1]\n",
    "r1=count1/(count1+count0)\n",
    "r0=count0/(count1+count0)\n",
    "\n",
    "dic={0:r1,1:r0}\n"
   ]
  },
  {
   "cell_type": "code",
   "execution_count": null,
   "metadata": {
    "id": "fT9XhQQTLBsB"
   },
   "outputs": [],
   "source": []
  },
  {
   "cell_type": "code",
   "execution_count": 218,
   "metadata": {
    "id": "p21VxA15ClYR"
   },
   "outputs": [],
   "source": [
    "\n",
    "imbalance_weight=udf(lambda x :dic[x],DoubleType())\n",
    "train_df2=train_df.withColumn('weight',imbalance_weight('stroke'))"
   ]
  },
  {
   "cell_type": "code",
   "execution_count": 226,
   "metadata": {
    "colab": {
     "base_uri": "https://localhost:8080/"
    },
    "id": "ShvTCRfULC80",
    "outputId": "245df206-403e-40fa-e240-7ff70668eb24"
   },
   "outputs": [
    {
     "name": "stdout",
     "output_type": "stream",
     "text": [
      "+------+-------------------+\n",
      "|stroke|             weight|\n",
      "+------+-------------------+\n",
      "|     0|0.05003715630418628|\n",
      "|     0|0.05003715630418628|\n",
      "|     0|0.05003715630418628|\n",
      "|     0|0.05003715630418628|\n",
      "|     0|0.05003715630418628|\n",
      "|     0|0.05003715630418628|\n",
      "|     0|0.05003715630418628|\n",
      "|     0|0.05003715630418628|\n",
      "|     0|0.05003715630418628|\n",
      "|     0|0.05003715630418628|\n",
      "|     1| 0.9499628436958137|\n",
      "|     0|0.05003715630418628|\n",
      "|     0|0.05003715630418628|\n",
      "|     0|0.05003715630418628|\n",
      "|     0|0.05003715630418628|\n",
      "|     0|0.05003715630418628|\n",
      "|     0|0.05003715630418628|\n",
      "|     0|0.05003715630418628|\n",
      "|     0|0.05003715630418628|\n",
      "|     0|0.05003715630418628|\n",
      "+------+-------------------+\n",
      "only showing top 20 rows\n",
      "\n"
     ]
    }
   ],
   "source": [
    "train_df2.select('stroke','weight').show()"
   ]
  },
  {
   "cell_type": "code",
   "execution_count": 219,
   "metadata": {
    "id": "eMaomK21Db01"
   },
   "outputs": [],
   "source": [
    "LR2=LogisticRegression(featuresCol='features',labelCol='stroke',maxIter=200,weightCol='weight')\n",
    "pipeline2 = Pipeline(stages=[string_indexer,OHE,vec_assem,LR2])"
   ]
  },
  {
   "cell_type": "code",
   "execution_count": 220,
   "metadata": {
    "id": "2zefx1oNDbxd"
   },
   "outputs": [],
   "source": [
    "predictions2 = pipeline2.fit(train_df2).transform(test_df)"
   ]
  },
  {
   "cell_type": "code",
   "execution_count": 221,
   "metadata": {
    "id": "IMKFek31Dbu3"
   },
   "outputs": [],
   "source": [
    "evaluatorROC = BinaryClassificationEvaluator(rawPredictionCol='prediction'\n",
    "                                             ,labelCol='stroke')"
   ]
  },
  {
   "cell_type": "code",
   "execution_count": 222,
   "metadata": {
    "colab": {
     "base_uri": "https://localhost:8080/"
    },
    "id": "HjST2YFADbsI",
    "outputId": "07f0a129-23cc-449e-e460-d115bf50966c"
   },
   "outputs": [
    {
     "data": {
      "text/plain": [
       "0.7757777671252577"
      ]
     },
     "execution_count": 222,
     "metadata": {},
     "output_type": "execute_result"
    }
   ],
   "source": [
    "evaluatorROC.evaluate(predictions2)"
   ]
  },
  {
   "cell_type": "code",
   "execution_count": 222,
   "metadata": {
    "id": "R5-RJZr7DbpZ"
   },
   "outputs": [],
   "source": [
    "#not bad ROC score"
   ]
  }
 ],
 "metadata": {
  "colab": {
   "name": "Spark and Python for Big Data Final Exam.ipynb",
   "provenance": []
  },
  "kernelspec": {
   "display_name": "Python 3",
   "language": "python",
   "name": "python3"
  },
  "language_info": {
   "codemirror_mode": {
    "name": "ipython",
    "version": 3
   },
   "file_extension": ".py",
   "mimetype": "text/x-python",
   "name": "python",
   "nbconvert_exporter": "python",
   "pygments_lexer": "ipython3",
   "version": "3.8.5"
  }
 },
 "nbformat": 4,
 "nbformat_minor": 5
}
